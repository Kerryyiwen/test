{
 "cells": [
  {
   "cell_type": "code",
   "execution_count": 2,
   "id": "cf1fce7f",
   "metadata": {},
   "outputs": [],
   "source": [
    "import requests\n",
    "import re\n",
    "import pandas as pd\n",
    "from bs4 import BeautifulSoup"
   ]
  },
  {
   "cell_type": "code",
   "execution_count": 22,
   "id": "de4fceb4",
   "metadata": {},
   "outputs": [],
   "source": [
    "url = \"https://www.epicurious.com/search/\"\n",
    "response = requests.get(url)\n",
    "result_page = BeautifulSoup(response.content,'lxml')\n"
   ]
  },
  {
   "cell_type": "code",
   "execution_count": 34,
   "id": "e2666aa9",
   "metadata": {},
   "outputs": [
    {
     "name": "stdout",
     "output_type": "stream",
     "text": [
      "['Step 1Pat turkey dry (if there is skin you can leave it on. If not, you won’t miss it) and place in a medium bowl. Mix together pepper, salt, brown sugar, garlic powder, and paprika in a small bowl, then sprinkle all over turkey (use all of it!). Cover and chill 8–12 hours.', 'Step 2Preheat oven to 300°. Remove turkey from bowl and discard any liquid but keep all of the spice rub in place. Heat oil in a large ovenproof nonstick or cast-iron skillet over medium-high. Cook turkey, turning every minute or so, until browned on all sides and very fragrant, 6–8 minutes total.', 'Step 3Transfer skillet to oven. Roast turkey, turning halfway through, until an instant-read thermometer inserted into the thickest part registers 155°, 60–90 minutes, depending on size. Transfer turkey to a wire rack. If you plan to serve it the same day it’s baked, let cool at least 30 minutes, then slice very thinly (think deli meat) on a cutting board.', 'Step 4To serve, spread cut sides of buns with mayonnaise and build sandwiches with buns, turkey, cranberry sauce, lettuce, and pickled red onion.Do ahead: Turkey can be roasted 4 days ahead. Let cool completely, then wrap tightly and chill. Slice just before using. Don’t try to reheat it as it will just dry out.']\n",
      "['Step 1Heat oil in a large skillet over medium-high. Cook squash, a cut side down, until browned underneath, about 3 minutes. Turn onto other cut sides and cook, undisturbed, until browned, about 3 minutes. Transfer to a plate.', 'Step 2Reduce heat to medium-low and add shallots, garlic, and ginger to same skillet. Cook, stirring often, until translucent and fragrant, about 3 minutes. Stir in coconut milk, salt, chile powder, cayenne, and turmeric. Increase heat to medium-high and bring to a gentle simmer. Reduce heat to medium-low; return squash to skillet and spoon some sauce over. Cover and cook until squash is fork-tender, 20–25 minutes.', 'Step 3Meanwhile, toast almonds in a dry small skillet over medium heat, tossing often, until golden brown, about 4 minutes. Transfer to a plate and let cool.', 'Step 4Remove squash from heat, uncover, and squeeze lime juice over. (If oil starts to separate from sauce while squash sits, gently whisk to emulsify before serving.) Top with almonds and cilantro. Serve with rice if desired.']\n",
      "['Step 1Heat a dry large skillet over high. Cook olives, shaking pan occasionally, until blistered and starting to char, about 2 minutes. Transfer to a medium bowl.', 'Step 2Heat 3 Tbsp. oil in same skillet and add red onion, parsnips, and 1 tsp. Diamond Crystal or ½ tsp. Morton kosher salt. Cook, stirring occasionally, until vegetables are charred and slightly softened, 7–9 minutes. Stir in cumin, ginger, and allspice and cook just until fragrant, about 30 seconds. Scrape vegetables into bowl with olives.', 'Step 3Toast barley in same skillet over medium heat (no need to add more oil), stirring often, until slightly darkened, about 1 minute. Stir in olive brine and cook until evaporated, about 30 seconds. Pour in 2 cups water, bring to a simmer, and cook, uncovered, until water is absorbed, 18–20 minutes (barley will not be fully cooked). Transfer barley to bowl with vegetables. Add figs and apricots and toss stuffing to combine.', 'Step 4Place a rack in middle of oven; preheat to 375°F. Using a pairing knife, cut out a wide circle around squash stem to create a lid (like preparing a jack-o’-lantern); remove lid. Scrape seeds and strings from squash cavity and bottom of lid with a spoon. Place squash on a foil-lined rimmed baking sheet. Using a pastry brush or your hands, coat inside and outside of squash, including lid, with remaining 1 Tbsp. oil (you may need more for a larger squash).', 'Step 5Season inside and outside of squash with salt. Scoop stuffing into cavity, packing firmly. Replace lid, which should fit snugly. Place any additional stuffing in a ramekin or small baking dish and add ¼ cup water per 1 cup stuffing; cover with foil. Bake squash with any extra stuffing alongside until a knife slides easily through flesh, 70–80 minutes. Remove from oven.Do ahead: Stuffing can be made 3 days ahead. Cover and chill.', 'Step 6Reduce oven temperature to 350°F. Toast walnuts on a small rimmed baking sheet, tossing halfway through, until golden brown, 6–8 minutes. Transfer to a plate and let cool, then coarsely chop.', 'Step 7Cook garlic, oil, preserved lemon paste, and 1 tsp. Diamond Crystal or ½ tsp. Morton kosher salt in a medium skillet over medium heat, stirring often, until oil is starting to sizzle gently and garlic is just beginning to brown around edges, about 2 minutes. Whisk in flour and cook, whisking, 30 seconds. Pour in wine, whisking to combine. Then gradually pour in 1½ cups water, whisking to combine. Bring to a simmer and cook, whisking occasionally, until gravy is thick enough to coat a spoon, about 5 minutes. Taste and season with more salt if needed.', 'Step 8Remove woody stem from top of squash (it should pull off easily) and cut squash into wedges. Using a large sturdy spatula, divide among plates or arrange on a platter and spoon any additional stuffing around. Drizzle gravy over and around, then top with walnuts and herbs.']\n",
      "['Step 1Preheat the oven to 400°F (205°C).', 'Step 2In a large bowl, combine the sugar, flour, and salt. Mix thoroughly with a whisk so that the starch is evenly dispersed, then whisk in the coconut oil. Add the maple syrup and whisk thoroughly, followed by the almond milk and vanilla.', 'Step 3Place the pie dish with bottom crust on a baking sheet. Pour in the filling, making sure to scrape the entire contents from the sides of the bowl into the pie. Sprinkle the pecans over the top or arrange the nuts in concentric circles if you’d like an especially elegant presentation. Bake the pie for 10 minutes, then reduce the heat to 350°F (175°C) and bake for 40 minutes more. The filling should be thick and bubbling at the edges.', 'Step 4Transfer the pie to a cooling rack and allow to cool to room temperature before serving. The pie will keep for up to 1 week at room temperature.']\n"
     ]
    }
   ],
   "source": [
    "recipes  = result_page.find_all('article',{'class':\"recipe-content-card\"})\n",
    "url_list = []\n",
    "for recipe in recipes:\n",
    "    recipe_url = \"https://www.epicurious.com\" + recipe.find('a',{'class':'view-complete-item'}).get('href')\n",
    "    url_list.append(recipe_url)\n",
    "\n",
    "for i in url_list:\n",
    "    full_re_list = []\n",
    "    response1 = requests.get(i)\n",
    "    result_page1 = BeautifulSoup(response1.content,'lxml')\n",
    "    title = result_page1.find('h1',{'data-testid':'ContentHeaderHed'}).get_text()\n",
    "    ingredients = result_page1.find_all('div',{'class':'BaseWrap-sc-TURhJ BaseText-fFzBQt Description-dSNklj eTiIvU eftAc'})\n",
    "    ingredient_list = []\n",
    "    for ingredient in ingredients:\n",
    "        a = ingredient.get_text()\n",
    "        ingredient_list.append(a)\n",
    "    steps = result_page1.find_all('div',{'class':'BaseWrap-sc-TURhJ InstructionStepWrapper-gaZBYI fNfucB imqfez'})\n",
    "    step_list = []\n",
    "    for step in steps:\n",
    "        step_t = step.get_text()\n",
    "        step_list.append(step_t)\n",
    "    \n",
    "        \n",
    "    "
   ]
  },
  {
   "cell_type": "code",
   "execution_count": null,
   "id": "983fee4c",
   "metadata": {},
   "outputs": [],
   "source": []
  }
 ],
 "metadata": {
  "kernelspec": {
   "display_name": "Python 3",
   "language": "python",
   "name": "python3"
  },
  "language_info": {
   "codemirror_mode": {
    "name": "ipython",
    "version": 3
   },
   "file_extension": ".py",
   "mimetype": "text/x-python",
   "name": "python",
   "nbconvert_exporter": "python",
   "pygments_lexer": "ipython3",
   "version": "3.8.8"
  }
 },
 "nbformat": 4,
 "nbformat_minor": 5
}
